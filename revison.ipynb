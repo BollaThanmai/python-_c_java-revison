{
 "cells": [
  {
   "cell_type": "markdown",
   "metadata": {},
   "source": [
    "pandas practice"
   ]
  },
  {
   "cell_type": "code",
   "execution_count": null,
   "metadata": {},
   "outputs": [
    {
     "name": "stdout",
     "output_type": "stream",
     "text": [
      "Original DataFrame:\n",
      "     A   B   C   D  Sum_All\n",
      "0  78   1  21  83      183\n",
      "1  69  64  42  18      193\n",
      "2  92  70  99  44      305\n",
      "3  14  60  89  56      219\n",
      "4  22  70  60  88      240\n",
      "\n",
      "Filtered DataFrame:\n",
      "     A   B   C   D  Sum_All\n",
      "3  14  60  89  56      219\n",
      "4  22  70  60  88      240\n"
     ]
    }
   ],
   "source": [
    "\n",
    "import pandas as pd\n",
    "import numpy as np\n",
    "\n",
    "df = pd.DataFrame(np.random.randint(1, 100, size=(5, 4)), columns=['A', 'B', 'C', 'D'])\n",
    "\n",
    "df['Sum_All'] = df['A'] + df['B'] + df['C'] + df['D'] \n",
    "\n",
    "filtered_df = df[df['A'] < 50]\n",
    "\n",
    "df.to_csv('random_dataframe.csv', index=False)\n",
    "loaded_df = pd.read_csv('random_dataframe.csv')\n",
    "\n",
    "print(\"Original DataFrame:\\n\", df)\n",
    "print(\"\\nFiltered DataFrame:\\n\", filtered_df)\n"
   ]
  },
  {
   "cell_type": "code",
   "execution_count": 9,
   "metadata": {},
   "outputs": [
    {
     "name": "stdout",
     "output_type": "stream",
     "text": [
      "\n",
      "Mean of each row:\n",
      "     A   B   C   D  Sum_All  Row_Mean  Above_Threshold\n",
      "0  87  29  18  40      174     43.50             True\n",
      "1  83  34  93  25      235     58.75             True\n",
      "2  21  99  50  15      185     46.25             True\n",
      "3  71   3  67  89      230     57.50             True\n",
      "4  93  52  80  10      235     58.75             True\n",
      "\n",
      "Above Threshold:\n",
      "                     A     B     C     D  Sum_All  Row_Mean\n",
      "Above_Threshold                                           \n",
      "True             71.0  43.4  61.6  35.8    211.8     52.95\n",
      "\n",
      "Sorted DataFrame:\n",
      "     A   B   C   D  Sum_All  Row_Mean  Above_Threshold\n",
      "1  83  34  93  25      235     58.75             True\n",
      "4  93  52  80  10      235     58.75             True\n",
      "3  71   3  67  89      230     57.50             True\n",
      "2  21  99  50  15      185     46.25             True\n",
      "0  87  29  18  40      174     43.50             True\n",
      "\n",
      "Grouped Summary:\n",
      "     A   B   C   D  Sum_All  Row_Mean  Above_Threshold\n",
      "0  87  29  18  40      174     43.50            False\n",
      "1  83  34  93  25      235     58.75             True\n",
      "2  21  99  50  15      185     46.25            False\n",
      "3  71   3  67  89      230     57.50             True\n",
      "4  93  52  80  10      235     58.75             True\n"
     ]
    }
   ],
   "source": [
    "df['Row_Mean']=df[['A','B','C','D']].mean(axis=1)\n",
    "df['Above_Threshold'] = df['Sum_All']>150\n",
    "sorted_df = df.sort_values(by='Sum_All', ascending=False)\n",
    "grouped_summary = df.groupby('Above_Threshold').mean()\n",
    "print(\"\\nMean of each row:\\n\", df)\n",
    "print(\"\\nAbove Threshold:\\n\", grouped_summary)\n",
    "print(\"\\nSorted DataFrame:\\n\", sorted_df)\n",
    "print(\"\\nGrouped Summary:\\n\", loaded_df)"
   ]
  },
  {
   "cell_type": "code",
   "execution_count": 3,
   "metadata": {},
   "outputs": [
    {
     "name": "stdout",
     "output_type": "stream",
     "text": [
      "Grouped Data:\n",
      "           mean  sum\n",
      "Category           \n",
      "A         32.0   96\n",
      "B         25.0   50\n",
      "C         28.0   56\n",
      "\n",
      "Category with highest average 'Values': A\n"
     ]
    }
   ],
   "source": [
    "import pandas as pd\n",
    "data = {\n",
    "    'Category': ['A', 'B', 'A', 'C', 'B', 'C', 'A'],\n",
    "    'Values': [28, 20, 28, 25, 30, 31, 40],\n",
    "    'Date': pd.date_range(start='2023-01-01', periods=7)\n",
    "}\n",
    "df = pd.DataFrame(data)\n",
    "\n",
    "grouped = df.groupby('Category')['Values'].agg(['mean', 'sum'])\n",
    "\n",
    "max_avg_category = grouped['mean'].idxmax()\n",
    "\n",
    "print(\"Grouped Data:\\n\", grouped)\n",
    "print(\"\\nCategory with highest average 'Values':\", max_avg_category)\n"
   ]
  },
  {
   "cell_type": "markdown",
   "metadata": {},
   "source": [
    "joins"
   ]
  },
  {
   "cell_type": "code",
   "execution_count": 9,
   "metadata": {},
   "outputs": [
    {
     "name": "stdout",
     "output_type": "stream",
     "text": [
      "Inner Join:\n",
      "    ID   Name_x  Score   Name_y  height\n",
      "0   3  shiridi     95  shiridi     5.5\n",
      "1   4   varshi    100   varshi     6.0\n",
      "Outer Join:\n",
      "    ID   Name_x  Score   Name_y  height\n",
      "0   1      avi   85.0      NaN     NaN\n",
      "1   2     ammu   90.0      NaN     NaN\n",
      "2   3  shiridi   95.0  shiridi     5.5\n",
      "3   4   varshi  100.0   varshi     6.0\n",
      "4   5      NaN    NaN   thresa     5.2\n",
      "5   6      NaN    NaN     hari     5.8\n"
     ]
    }
   ],
   "source": [
    "import pandas as pd\n",
    "import numpy as np\n",
    "\n",
    "df1 = pd.DataFrame({\n",
    "    'ID': [1, 2, 3, 4],\n",
    "    'Name': ['avi', 'ammu', 'shiridi', 'varshi'],\n",
    "    'Score': [85, 90, 95, 100]\n",
    "})\n",
    "\n",
    "df2 = pd.DataFrame({\n",
    "    'ID': [3, 4, 5, 6],\n",
    "    'Name': ['shiridi', 'varshi', 'thresa', 'hari'],\n",
    "    'height': [5.5, 6.0, 5.2, 5.8]\n",
    "})\n",
    "\n",
    "inner_join = pd.merge(df1, df2, on='ID', how='inner')\n",
    "\n",
    "outer_join = pd.merge(df1, df2, on='ID', how='outer')\n",
    "\n",
    "print(\"Inner Join:\\n\", inner_join)\n",
    "print(\"Outer Join:\\n\", outer_join)\n"
   ]
  },
  {
   "cell_type": "markdown",
   "metadata": {},
   "source": [
    "numpy"
   ]
  },
  {
   "cell_type": "code",
   "execution_count": 8,
   "metadata": {},
   "outputs": [
    {
     "name": "stdout",
     "output_type": "stream",
     "text": [
      "1D Array: [1 2 8 6 5]\n",
      "2D Array Shape: (2, 3)\n",
      "Sum of 2D Array: 35\n",
      "Transpose of 2D Array:\n",
      " [[4 8]\n",
      " [5 5]\n",
      " [6 7]]\n",
      "mean of 1D Array: 4.4\n",
      "max of 2D Array: 8\n",
      "median of 1D Array: 5.0\n",
      "min of 2D Array: 4\n"
     ]
    }
   ],
   "source": [
    "import numpy as np\n",
    "\n",
    "# Creating arrays\n",
    "array1 = np.array([1, 2, 8,6,5])\n",
    "array2 = np.array([[4,5,6], [8, 5, 7]])\n",
    "\n",
    "# Performing operations\n",
    "print(\"1D Array:\", array1)\n",
    "print(\"2D Array Shape:\", array2.shape)\n",
    "print(\"Sum of 2D Array:\", array2.sum())\n",
    "print(\"Transpose of 2D Array:\\n\", array2.T)\n",
    "print(\"mean of 1D Array:\", array1.mean())\n",
    "print(\"max of 2D Array:\", array2.max())\n",
    "print(\"median of 1D Array:\", np.median(array1))\n",
    "print(\"min of 2D Array:\", array2.min())\n"
   ]
  },
  {
   "cell_type": "code",
   "execution_count": 16,
   "metadata": {},
   "outputs": [
    {
     "name": "stdout",
     "output_type": "stream",
     "text": [
      "Random Array:\n",
      " [[13 97 65]\n",
      " [25 53 63]\n",
      " [79 22 14]]\n",
      "Mean: 47.888888888888886\n",
      "Max: 97\n",
      "Min: 13\n",
      "Sum: 431\n",
      "median: 53.0\n"
     ]
    }
   ],
   "source": [
    "# Generate random array\n",
    "array = np.random.randint(1, 100, size=(3,3))\n",
    "\n",
    "# Perform operations\n",
    "mean_value = np.mean(array)\n",
    "max_value = np.max(array)\n",
    "min_value = np.min(array)\n",
    "\n",
    "print(\"Random Array:\\n\", array)\n",
    "print(\"Mean:\", mean_value)\n",
    "print(\"Max:\", max_value)\n",
    "print(\"Min:\", min_value)\n",
    "print(\"Sum:\", np.sum(array))\n",
    "print(\"median:\", np.median(array))\n"
   ]
  },
  {
   "cell_type": "code",
   "execution_count": 18,
   "metadata": {},
   "outputs": [
    {
     "name": "stdout",
     "output_type": "stream",
     "text": [
      "Addition: [ 3  5  7  9 11 13 15 17 19]\n",
      "Subtraction: [-1 -1 -1 -1 -1 -1 -1 -1 -1]\n",
      "Multiplication: [ 2  6 12 20 30 42 56 72 90]\n",
      "Division: [0.5        0.66666667 0.75       0.8        0.83333333 0.85714286\n",
      " 0.875      0.88888889 0.9       ]\n",
      "Modulas: [1 2 3 4 5 6 7 8 9]\n",
      "Cube_arr2: [   8   27   64  125  216  343  512  729 1000]\n",
      "square_arr1: [ 1  4  9 16 25 36 49 64 81]\n"
     ]
    }
   ],
   "source": [
    "arr1 = np.array([1,2,3,4,5,6,7,8,9])\n",
    "arr2 = np.array([2,3,4,5,6,7,8,9,10])\n",
    "\n",
    "# Operations\n",
    "addition = arr1+ arr2\n",
    "subtraction = arr1 - arr2\n",
    "multiplication = arr1 * arr2\n",
    "division = arr1 / arr2\n",
    "modulas = arr1 % arr2\n",
    "square_arr1 = arr1 ** 2\n",
    "cube_arr2 = arr2 ** 3\n",
    "\n",
    "\n",
    "print(\"Addition:\", addition)\n",
    "print(\"Subtraction:\", subtraction)\n",
    "print(\"Multiplication:\", multiplication)\n",
    "print(\"Division:\", division)\n",
    "print(\"Modulas:\", modulas)\n",
    "print(\"Cube_arr2:\", cube_arr2)\n",
    "print(\"square_arr1:\", square_arr1)\n",
    "\n"
   ]
  },
  {
   "cell_type": "code",
   "execution_count": 23,
   "metadata": {},
   "outputs": [
    {
     "name": "stdout",
     "output_type": "stream",
     "text": [
      "Array:\n",
      " [[ 1  2  3  4]\n",
      " [ 5  6  7  8]\n",
      " [ 9 10 11 12]\n",
      " [13 14 15 16]]\n",
      "First Row: [1 2 3 4]\n",
      "Second Column: [ 2  6 10 14]\n",
      "Subarray:\n",
      " [[ 6  7]\n",
      " [10 11]\n",
      " [14 15]]\n"
     ]
    }
   ],
   "source": [
    "array = np.arange(1, 17).reshape(4, 4) \n",
    "\n",
    "row_1 = array[0, :]  \n",
    "column_2 = array[:, 1]  \n",
    "subarray = array[1:, 1:3]\n",
    "\n",
    "\n",
    "print(\"Array:\\n\", array)\n",
    "print(\"First Row:\", row_1)\n",
    "print(\"Second Column:\", column_2)\n",
    "print(\"Subarray:\\n\", subarray)\n"
   ]
  },
  {
   "cell_type": "code",
   "execution_count": 26,
   "metadata": {},
   "outputs": [
    {
     "name": "stdout",
     "output_type": "stream",
     "text": [
      "Original Random Array:\n",
      " [[3. 3. 3. 3. 3.]\n",
      " [3. 3. 3. 3. 3.]\n",
      " [3. 3. 3. 3. 3.]\n",
      " [3. 3. 3. 3. 3.]\n",
      " [3. 3. 3. 3. 3.]]\n",
      "\n",
      "Normalized Array:\n",
      " [[1. 1. 1. 1. 1.]\n",
      " [1. 1. 1. 1. 1.]\n",
      " [1. 1. 1. 1. 1.]\n",
      " [1. 1. 1. 1. 1.]\n",
      " [1. 1. 1. 1. 1.]]\n",
      "\n",
      "Sum of Remaining Elements: 25.0\n"
     ]
    }
   ],
   "source": [
    "import numpy as np\n",
    "\n",
    "random_array = np.random.random((5,5))\n",
    "# replace all values less than 2.5 with 3\n",
    "random_array[random_array < 2.5] = 3\n",
    "\n",
    "normalized_array = random_array / random_array.max() \n",
    "\n",
    "total_sum = normalized_array.sum()\n",
    "\n",
    "print(\"Original Random Array:\\n\", random_array)\n",
    "print(\"\\nNormalized Array:\\n\", normalized_array)\n",
    "print(\"\\nSum of Remaining Elements:\", total_sum)\n"
   ]
  },
  {
   "cell_type": "markdown",
   "metadata": {},
   "source": [
    "sales analysis"
   ]
  },
  {
   "cell_type": "code",
   "execution_count": 28,
   "metadata": {},
   "outputs": [
    {
     "name": "stdout",
     "output_type": "stream",
     "text": [
      "Sales Data:\n",
      "   Month  Sales  Growth (%)\n",
      "0   Jan  18000         NaN\n",
      "1   Feb  21000   16.666667\n",
      "2   Mar  15000  -28.571429\n",
      "3   Apr  22000   46.666667\n",
      "4   May  24000    9.090909\n",
      "5   Jun  20000  -16.666667\n",
      "6   Jul  19000   -5.000000\n",
      "7   Aug  23000   21.052632\n",
      "8   Sep  21000   -8.695652\n",
      "9   Oct  22000    4.761905\n",
      "\n",
      "Total Sales: 205000\n",
      "\n",
      "Best Month: May\n"
     ]
    }
   ],
   "source": [
    "import pandas as pd\n",
    "import numpy as np\n",
    "\n",
    "# Create a dataset of monthly sales\n",
    "data = {\n",
    "    'Month': ['Jan', 'Feb', 'Mar', 'Apr', 'May', 'Jun', 'Jul', 'Aug', 'Sep', 'Oct'] ,\n",
    "    'Sales': [18000, 21000, 15000, 22000, 24000, 20000, 19000, 23000, 21000, 22000]\n",
    "}\n",
    "df = pd.DataFrame(data)\n",
    "\n",
    "total_sales = df['Sales'].sum()\n",
    "\n",
    "df['Growth (%)'] = df['Sales'].pct_change() * 100\n",
    "\n",
    "best_month = df.loc[df['Sales'].idxmax(), 'Month']\n",
    "\n",
    "print(\"Sales Data:\\n\", df)\n",
    "print(\"\\nTotal Sales:\", total_sales)\n",
    "print(\"\\nBest Month:\", best_month)\n"
   ]
  },
  {
   "cell_type": "code",
   "execution_count": 32,
   "metadata": {},
   "outputs": [
    {
     "name": "stdout",
     "output_type": "stream",
     "text": [
      "Student Data:\n",
      "    Student  Math  Science  Total Score  Passed\n",
      "0     Ammu    85       88          173    True\n",
      "1  shiridi    78       74          152    True\n",
      "2   thresa    92       90          182    True\n",
      "3     sree    65       40          105   False\n",
      "4     havi    70       49          119   False\n",
      "5    deppu    80       82          162    True\n",
      "\n",
      "Top Student: thresa\n",
      "Pass Percentage: 66.66666666666666\n"
     ]
    }
   ],
   "source": [
    "import pandas as pd\n",
    "import numpy as np\n",
    "\n",
    "# Create a DataFrame with student scores\n",
    "data = {\n",
    "    'Student': ['Ammu','shiridi','thresa','sree','havi','deppu'],\n",
    "    'Math': [85,78,92,65,70,80],\n",
    "    'Science': [88,74,90,40,49,82]\n",
    "}\n",
    "df = pd.DataFrame(data)\n",
    "\n",
    "df['Total Score'] = df['Math'] + df['Science']\n",
    "\n",
    "top_student = df.loc[df['Total Score'].idxmax(), 'Student']\n",
    "\n",
    "df['Passed'] = (df['Math'] >= 50) & (df['Science'] >= 50)\n",
    "pass_percentage = (df['Passed'].sum() / len(df)) * 100\n",
    "\n",
    "print(\"Student Data:\\n\", df)\n",
    "print(\"\\nTop Student:\", top_student)\n",
    "print(\"Pass Percentage:\", pass_percentage)\n"
   ]
  },
  {
   "cell_type": "markdown",
   "metadata": {},
   "source": [
    "matplotlib"
   ]
  },
  {
   "cell_type": "code",
   "execution_count": 6,
   "metadata": {},
   "outputs": [
    {
     "data": {
      "image/png": "[encoded data removed]",
      "text/plain": [
       "<Figure size 640x480 with 1 Axes>"
      ]
     },
     "metadata": {},
     "output_type": "display_data"
    }
   ],
   "source": [
    "import matplotlib.pyplot as plt\n",
    "\n",
    "# Data\n",
    "x = [1, 2, 3, 4, 5]\n",
    "y = [10, 20, 15, 25, 30]\n",
    "\n",
    "# Plot\n",
    "plt.plot(x, y, marker='o', linestyle='--', color='g', label='Line 1')\n",
    "plt.title(\"line graph\")\n",
    "plt.xlabel(\"X-Axis\")\n",
    "plt.ylabel(\"Y-Axis\")\n",
    "plt.legend()\n",
    "plt.grid(True)\n",
    "plt.show()\n"
   ]
  },
  {
   "cell_type": "code",
   "execution_count": 10,
   "metadata": {},
   "outputs": [
    {
     "data": {
      "image/png": "[encoded data removed]",
      "text/plain": [
       "<Figure size 640x480 with 1 Axes>"
      ]
     },
     "metadata": {},
     "output_type": "display_data"
    }
   ],
   "source": [
    "import matplotlib.pyplot as plt\n",
    "categories = ['kiya', 'varshi', 'hari', 'kavi']\n",
    "values = [5, 7, 3, 8]\n",
    "\n",
    "plt.bar(categories, values, color='orange')\n",
    "plt.title(\"Bar graph\")\n",
    "plt.xlabel(\"Categories\")\n",
    "plt.ylabel(\"Values\")\n",
    "plt.show()\n"
   ]
  },
  {
   "cell_type": "code",
   "execution_count": 14,
   "metadata": {},
   "outputs": [
    {
     "data": {
      "image/png": "[encoded data removed]",
      "text/plain": [
       "<Figure size 640x480 with 1 Axes>"
      ]
     },
     "metadata": {},
     "output_type": "display_data"
    }
   ],
   "source": [
    "import numpy as np\n",
    "\n",
    "# Data\n",
    "x = np.random.rand(50)\n",
    "y = np.random.rand(50)\n",
    "\n",
    "# Plot\n",
    "plt.scatter(x, y, color='blue', marker='o')\n",
    "plt.title(\"Scatter Plot\")\n",
    "plt.xlabel(\"X-Axis\")\n",
    "plt.ylabel(\"Y-Axis\")\n",
    "plt.show()\n"
   ]
  },
  {
   "cell_type": "code",
   "execution_count": null,
   "metadata": {},
   "outputs": [],
   "source": []
  }
 ],
 "metadata": {
  "kernelspec": {
   "display_name": "base",
   "language": "python",
   "name": "python3"
  },
  "language_info": {
   "codemirror_mode": {
    "name": "ipython",
    "version": 3
   },
   "file_extension": ".py",
   "mimetype": "text/x-python",
   "name": "python",
   "nbconvert_exporter": "python",
   "pygments_lexer": "ipython3",
   "version": "3.11.7"
  }
 },
 "nbformat": 4,
 "nbformat_minor": 2
}
